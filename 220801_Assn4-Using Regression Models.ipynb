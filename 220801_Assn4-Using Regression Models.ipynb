{
  "cells": [
    {
      "cell_type": "markdown",
      "source": [
        "Pranshu Thirani\n",
        "\n",
        "220801\n",
        "\n",
        "\n",
        "\n"
      ],
      "metadata": {
        "id": "zLO_s35gnBpB"
      }
    },
    {
      "cell_type": "markdown",
      "source": [
        "**Part 1: A simple linear regression: Power posing and testosterone**"
      ],
      "metadata": {
        "id": "P5DsQudPIkQc"
      }
    },
    {
      "cell_type": "code",
      "execution_count": 44,
      "metadata": {
        "colab": {
          "base_uri": "https://localhost:8080/"
        },
        "id": "kcaVsHrvg7Hi",
        "outputId": "d2a109d6-506b-4a94-bcac-e67cf031b5f3"
      },
      "outputs": [
        {
          "output_type": "stream",
          "name": "stdout",
          "text": [
            "Summary of linear regression results:\n",
            "                             OLS Regression Results                            \n",
            "==============================================================================\n",
            "Dep. Variable:                  delta   R-squared:                       0.048\n",
            "Model:                            OLS   Adj. R-squared:                  0.022\n",
            "Method:                 Least Squares   F-statistic:                     1.869\n",
            "Date:                Wed, 03 Jul 2024   Prob (F-statistic):              0.180\n",
            "Time:                        17:13:04   Log-Likelihood:                -171.48\n",
            "No. Observations:                  39   AIC:                             347.0\n",
            "Df Residuals:                      37   BIC:                             350.3\n",
            "Df Model:                           1                                         \n",
            "Covariance Type:            nonrobust                                         \n",
            "==============================================================================\n",
            "                 coef    std err          t      P>|t|      [0.025      0.975]\n",
            "------------------------------------------------------------------------------\n",
            "const         -4.3666      4.628     -0.944      0.351     -13.743       5.010\n",
            "hptreat        8.8346      6.462      1.367      0.180      -4.259      21.928\n",
            "==============================================================================\n",
            "Omnibus:                        0.353   Durbin-Watson:                   2.135\n",
            "Prob(Omnibus):                  0.838   Jarque-Bera (JB):                0.524\n",
            "Skew:                           0.146   Prob(JB):                        0.770\n",
            "Kurtosis:                       2.513   Cond. No.                         2.65\n",
            "==============================================================================\n",
            "\n",
            "Notes:\n",
            "[1] Standard Errors assume that the covariance matrix of the errors is correctly specified.\n"
          ]
        }
      ],
      "source": [
        "import pandas as pd\n",
        "import statsmodels.api as sm\n",
        "\n",
        "# Load the dataset\n",
        "df_pp = pd.read_csv('/content/df_powerpose_99f68d8a-2128-47c5-84c4-93af776c0468.csv')\n",
        "\n",
        "# Calculating the change in testosterone levels after treatment\n",
        "df_pp['delta'] = df_pp['testm2'] - df_pp['testm1']\n",
        "\n",
        "\n",
        "# Defining the dependent variable (delta) and independent variable (hptreat)\n",
        "# Mapping 'Low' and 'High' values to 0 and 1.\n",
        "A = df_pp['hptreat'].map({'Low': 0, 'High': 1})\n",
        "B = df_pp['delta']\n",
        "# Adding a constant to the independent variable (intercept)\n",
        "A = sm.add_constant(A)\n",
        "# Fit the linear regression model\n",
        "model = sm.OLS(B, A).fit()\n",
        "# Interpreting the results\n",
        "print(\"Summary of linear regression results:\\n\", model.summary())\n",
        "# Interpretation\n",
        "# A significantly positive coefficient for 'hptreat' suggests that high power posing is associated\n",
        "# with a higher increase in testosterone levels compared to low power posing.\n",
        "# To assess if this association is statistically significant, we check the p-value of\n",
        "# the 'hptreat' coefficient. A value < 0.05 typically indicates statistical insignificance."
      ]
    },
    {
      "cell_type": "markdown",
      "source": [
        "**Part 2: Poisson regression models and hypothesis**"
      ],
      "metadata": {
        "id": "ziCZkQp8WCQS"
      }
    },
    {
      "cell_type": "markdown",
      "source": [
        "Exercise 2.1:"
      ],
      "metadata": {
        "id": "nS4UNoOfXMzw"
      }
    },
    {
      "cell_type": "markdown",
      "source": [
        "Implementing the model in python, using variables alpha, beta and length of the sentence.\n",
        "\n",
        "The function takes the input of length, beta and alpha, and returns a random value generated from the poisson distribution formed from the lambda obtained."
      ],
      "metadata": {
        "id": "3DFDEN6aWLMx"
      }
    },
    {
      "cell_type": "code",
      "execution_count": 45,
      "metadata": {
        "colab": {
          "base_uri": "https://localhost:8080/"
        },
        "id": "oq7v1dgZ0I9a",
        "outputId": "506bb803-0dd7-4c4c-c992-154aebcb3493"
      },
      "outputs": [
        {
          "output_type": "stream",
          "name": "stdout",
          "text": [
            "Example Number of crossings: 0\n"
          ]
        }
      ],
      "source": [
        "import numpy as np\n",
        "\n",
        "# creating the crossings calculating function.\n",
        "def calculate_crossings(sentence_length, alpha, beta):\n",
        "\n",
        " # Computing lambda_i. As log(lambda_i) = (alpha + (beta*sentence_length))\n",
        " lambda_i = np.exp(alpha + (beta * sentence_length))\n",
        "\n",
        " # Generating number of crossings from Poisson distribution of lambda_i, by taking random samples.\n",
        " crossings = np.random.poisson(lambda_i)\n",
        " return crossings\n",
        "\n",
        "\n",
        "# Example Usage\n",
        "sentence_length = 8 # sentence length\n",
        "alpha = 0.4 # Example alpha (expected crossings for average length sentence)\n",
        "beta = 0.05 # Example beta (change in crossings with sentence length)\n",
        "\n",
        "\n",
        "num_crossings = calculate_crossings(sentence_length, alpha, beta)\n",
        "print(\"Example Number of crossings:\", num_crossings)\n"
      ]
    },
    {
      "cell_type": "markdown",
      "source": [
        "Example 2.2:"
      ],
      "metadata": {
        "id": "1hAcmq0fXQxM"
      }
    },
    {
      "cell_type": "markdown",
      "source": [
        "Taking Length of Sentence to be 4.\n",
        "\n",
        "And assuming priors of alpha and beta being\n",
        "\n",
        "α ∼ Normal (0.15, 0.1)\n",
        "\n",
        "β ∼ Normal (0.25, 0.05)\n",
        "\n",
        "I took 10,000 samples of number of crossings by implementing a function for the same and plotted the final distribution."
      ],
      "metadata": {
        "id": "Fo2eHgZCWwQS"
      }
    },
    {
      "cell_type": "code",
      "execution_count": 46,
      "metadata": {
        "colab": {
          "base_uri": "https://localhost:8080/",
          "height": 472
        },
        "id": "3yOiA23Y7qu4",
        "outputId": "03850378-b27d-4279-d381-d48fbcc83ab5"
      },
      "outputs": [
        {
          "output_type": "display_data",
          "data": {
            "text/plain": [
              "<Figure size 640x480 with 1 Axes>"
            ],
            "image/png": "[encoded data removed]"
          },
          "metadata": {}
        }
      ],
      "source": [
        "import matplotlib.pyplot as plt\n",
        "import seaborn as sns\n",
        "\n",
        "def generate_prior_predictions(sentence_length, samples=10000):\n",
        " # Defining prior distributions for alpha and beta\n",
        " alpha_prior = np.random.normal(0.15, 0.1, samples) # Prior for alpha\n",
        " beta_prior = np.random.normal(0.25, 0.05, samples) # Prior for beta\n",
        "\n",
        " predictions = []\n",
        " for alpha, beta in zip(alpha_prior, beta_prior):\n",
        "    ni = calculate_crossings(alpha, beta, sentence_length)\n",
        "    predictions.append(ni)\n",
        " return predictions\n",
        "\n",
        "# Generating prior predictions for sentence length 4\n",
        "sentence_length = 4\n",
        "prior_predictions = generate_prior_predictions(sentence_length)\n",
        "\n",
        "#Plotting the results+0\n",
        "\n",
        "sns.histplot(prior_predictions, bins=np.arange(0, 12)-0.5, kde=False)  # Adjust bins for desired granularity\n",
        "plt.title('Prior Predictions')\n",
        "plt.xlabel('Number of Crossings')\n",
        "plt.ylabel('Number of Occurences in 10,000 samples')\n",
        "plt.xticks(range(0, 11))\n",
        "plt.show()\n"
      ]
    },
    {
      "cell_type": "markdown",
      "source": [
        "Exercise 2.3:"
      ],
      "metadata": {
        "id": "FkXJX4_qXbe2"
      }
    },
    {
      "cell_type": "code",
      "source": [
        "!pip install pymc==4.1.6\n",
        "import statsmodels.formula.api as smf\n",
        "import pymc as pm\n",
        "from sklearn.model_selection import KFold\n",
        "import arviz as az\n",
        "\n",
        "crossings = pd.read_csv('/content/crossings_24a167f3-2f8f-4f5c-bca9-884567bb1c33.csv')\n",
        "crossings['Language'] = crossings['Language'].map({'English': 0, 'German': 1})"
      ],
      "metadata": {
        "id": "-j68x71TXdQJ",
        "colab": {
          "base_uri": "https://localhost:8080/"
        },
        "outputId": "318e043c-5b0f-4b1a-b768-b2ca02189198"
      },
      "execution_count": 47,
      "outputs": [
        {
          "output_type": "stream",
          "name": "stdout",
          "text": [
            "Requirement already satisfied: pymc==4.1.6 in /usr/local/lib/python3.10/dist-packages (4.1.6)\n",
            "Requirement already satisfied: aeppl==0.0.35 in /usr/local/lib/python3.10/dist-packages (from pymc==4.1.6) (0.0.35)\n",
            "Requirement already satisfied: aesara==2.8.2 in /usr/local/lib/python3.10/dist-packages (from pymc==4.1.6) (2.8.2)\n",
            "Requirement already satisfied: arviz>=0.12.0 in /usr/local/lib/python3.10/dist-packages (from pymc==4.1.6) (0.15.1)\n",
            "Requirement already satisfied: cachetools>=4.2.1 in /usr/local/lib/python3.10/dist-packages (from pymc==4.1.6) (5.3.3)\n",
            "Requirement already satisfied: cloudpickle in /usr/local/lib/python3.10/dist-packages (from pymc==4.1.6) (2.2.1)\n",
            "Requirement already satisfied: fastprogress>=0.2.0 in /usr/local/lib/python3.10/dist-packages (from pymc==4.1.6) (1.0.3)\n",
            "Requirement already satisfied: numpy>=1.15.0 in /usr/local/lib/python3.10/dist-packages (from pymc==4.1.6) (1.25.2)\n",
            "Requirement already satisfied: pandas>=0.24.0 in /usr/local/lib/python3.10/dist-packages (from pymc==4.1.6) (2.0.3)\n",
            "Requirement already satisfied: scipy>=1.4.1 in /usr/local/lib/python3.10/dist-packages (from pymc==4.1.6) (1.11.4)\n",
            "Requirement already satisfied: typing-extensions>=3.7.4 in /usr/local/lib/python3.10/dist-packages (from pymc==4.1.6) (4.12.2)\n",
            "Requirement already satisfied: filelock in /usr/local/lib/python3.10/dist-packages (from aesara==2.8.2->pymc==4.1.6) (3.15.4)\n",
            "Requirement already satisfied: etuples in /usr/local/lib/python3.10/dist-packages (from aesara==2.8.2->pymc==4.1.6) (0.3.9)\n",
            "Requirement already satisfied: logical-unification in /usr/local/lib/python3.10/dist-packages (from aesara==2.8.2->pymc==4.1.6) (0.4.6)\n",
            "Requirement already satisfied: miniKanren in /usr/local/lib/python3.10/dist-packages (from aesara==2.8.2->pymc==4.1.6) (1.0.3)\n",
            "Requirement already satisfied: cons in /usr/local/lib/python3.10/dist-packages (from aesara==2.8.2->pymc==4.1.6) (0.4.6)\n",
            "Requirement already satisfied: setuptools>=48.0.0 in /usr/local/lib/python3.10/dist-packages (from aesara==2.8.2->pymc==4.1.6) (67.7.2)\n",
            "Requirement already satisfied: matplotlib>=3.2 in /usr/local/lib/python3.10/dist-packages (from arviz>=0.12.0->pymc==4.1.6) (3.7.1)\n",
            "Requirement already satisfied: packaging in /usr/local/lib/python3.10/dist-packages (from arviz>=0.12.0->pymc==4.1.6) (24.1)\n",
            "Requirement already satisfied: xarray>=0.21.0 in /usr/local/lib/python3.10/dist-packages (from arviz>=0.12.0->pymc==4.1.6) (2023.7.0)\n",
            "Requirement already satisfied: h5netcdf>=1.0.2 in /usr/local/lib/python3.10/dist-packages (from arviz>=0.12.0->pymc==4.1.6) (1.3.0)\n",
            "Requirement already satisfied: xarray-einstats>=0.3 in /usr/local/lib/python3.10/dist-packages (from arviz>=0.12.0->pymc==4.1.6) (0.7.0)\n",
            "Requirement already satisfied: python-dateutil>=2.8.2 in /usr/local/lib/python3.10/dist-packages (from pandas>=0.24.0->pymc==4.1.6) (2.8.2)\n",
            "Requirement already satisfied: pytz>=2020.1 in /usr/local/lib/python3.10/dist-packages (from pandas>=0.24.0->pymc==4.1.6) (2023.4)\n",
            "Requirement already satisfied: tzdata>=2022.1 in /usr/local/lib/python3.10/dist-packages (from pandas>=0.24.0->pymc==4.1.6) (2024.1)\n",
            "Requirement already satisfied: h5py in /usr/local/lib/python3.10/dist-packages (from h5netcdf>=1.0.2->arviz>=0.12.0->pymc==4.1.6) (3.9.0)\n",
            "Requirement already satisfied: contourpy>=1.0.1 in /usr/local/lib/python3.10/dist-packages (from matplotlib>=3.2->arviz>=0.12.0->pymc==4.1.6) (1.2.1)\n",
            "Requirement already satisfied: cycler>=0.10 in /usr/local/lib/python3.10/dist-packages (from matplotlib>=3.2->arviz>=0.12.0->pymc==4.1.6) (0.12.1)\n",
            "Requirement already satisfied: fonttools>=4.22.0 in /usr/local/lib/python3.10/dist-packages (from matplotlib>=3.2->arviz>=0.12.0->pymc==4.1.6) (4.53.0)\n",
            "Requirement already satisfied: kiwisolver>=1.0.1 in /usr/local/lib/python3.10/dist-packages (from matplotlib>=3.2->arviz>=0.12.0->pymc==4.1.6) (1.4.5)\n",
            "Requirement already satisfied: pillow>=6.2.0 in /usr/local/lib/python3.10/dist-packages (from matplotlib>=3.2->arviz>=0.12.0->pymc==4.1.6) (9.4.0)\n",
            "Requirement already satisfied: pyparsing>=2.3.1 in /usr/local/lib/python3.10/dist-packages (from matplotlib>=3.2->arviz>=0.12.0->pymc==4.1.6) (3.1.2)\n",
            "Requirement already satisfied: six>=1.5 in /usr/local/lib/python3.10/dist-packages (from python-dateutil>=2.8.2->pandas>=0.24.0->pymc==4.1.6) (1.16.0)\n",
            "Requirement already satisfied: toolz in /usr/local/lib/python3.10/dist-packages (from logical-unification->aesara==2.8.2->pymc==4.1.6) (0.12.1)\n",
            "Requirement already satisfied: multipledispatch in /usr/local/lib/python3.10/dist-packages (from logical-unification->aesara==2.8.2->pymc==4.1.6) (1.0.0)\n"
          ]
        }
      ]
    },
    {
      "cell_type": "markdown",
      "source": [
        "Parameter estimation with M1:"
      ],
      "metadata": {
        "id": "MNzfeo-elyZq"
      }
    },
    {
      "cell_type": "code",
      "source": [
        "with pm.Model() as model_M1:\n",
        "    alpha = pm.Normal('alpha', mu=0.15, sigma=0.1)\n",
        "    beta = pm.Normal('beta', mu=0, sigma=0.15)\n",
        "    mu = pm.math.exp(alpha + beta * crossings['s.length'])\n",
        "    y_obs = pm.Poisson('y_obs', mu=mu, observed=crossings['nCross'])\n",
        "    trace_M1 = pm.sample(2000, tune=1000, cores=2, random_seed=42)\n",
        "    print(pm.summary(trace_M1))\n",
        "\n"
      ],
      "metadata": {
        "id": "KDoVyoEDaZaJ",
        "colab": {
          "base_uri": "https://localhost:8080/",
          "height": 163
        },
        "outputId": "713eef87-5290-4d58-9185-6c5d702b5fe0"
      },
      "execution_count": 48,
      "outputs": [
        {
          "output_type": "display_data",
          "data": {
            "text/plain": [
              "<IPython.core.display.HTML object>"
            ],
            "text/html": [
              "\n",
              "<style>\n",
              "    /* Turns off some styling */\n",
              "    progress {\n",
              "        /* gets rid of default border in Firefox and Opera. */\n",
              "        border: none;\n",
              "        /* Needs to be in here for Safari polyfill so background images work as expected. */\n",
              "        background-size: auto;\n",
              "    }\n",
              "    progress:not([value]), progress:not([value])::-webkit-progress-bar {\n",
              "        background: repeating-linear-gradient(45deg, #7e7e7e, #7e7e7e 10px, #5c5c5c 10px, #5c5c5c 20px);\n",
              "    }\n",
              "    .progress-bar-interrupted, .progress-bar-interrupted::-webkit-progress-bar {\n",
              "        background: #F44336;\n",
              "    }\n",
              "</style>\n"
            ]
          },
          "metadata": {}
        },
        {
          "output_type": "display_data",
          "data": {
            "text/plain": [
              "<IPython.core.display.HTML object>"
            ],
            "text/html": [
              "\n",
              "    <div>\n",
              "      <progress value='6000' class='' max='6000' style='width:300px; height:20px; vertical-align: middle;'></progress>\n",
              "      100.00% [6000/6000 00:27&lt;00:00 Sampling 2 chains, 0 divergences]\n",
              "    </div>\n",
              "    "
            ]
          },
          "metadata": {}
        },
        {
          "output_type": "stream",
          "name": "stdout",
          "text": [
            "        mean     sd  hdi_3%  hdi_97%  mcse_mean  mcse_sd  ess_bulk  ess_tail  \\\n",
            "alpha -1.045  0.048  -1.134   -0.953      0.002    0.001     766.0     925.0   \n",
            "beta   0.125  0.003   0.119    0.131      0.000    0.000     763.0     707.0   \n",
            "\n",
            "       r_hat  \n",
            "alpha    1.0  \n",
            "beta     1.0  \n"
          ]
        }
      ]
    },
    {
      "cell_type": "markdown",
      "source": [
        "M1 estimates Alpha to have mean -1.045 and SD = 0.048.\n",
        "\n",
        "\n",
        "M1 estimates Beta to have mean 0.125 and SD = 0.003\n",
        ".\n"
      ],
      "metadata": {
        "id": "LyGRxyFlmLsv"
      }
    },
    {
      "cell_type": "markdown",
      "source": [
        "Parameter estimation with M2:"
      ],
      "metadata": {
        "id": "O6PMC5fIl024"
      }
    },
    {
      "cell_type": "code",
      "source": [
        "with pm.Model() as model_M2:\n",
        "    alpha = pm.Normal('alpha', mu=0.15, sigma=0.1)\n",
        "    beta = pm.Normal('beta', mu=0, sigma=0.15)\n",
        "    beta_language = pm.Normal('beta_language', mu=0, sigma=0.15)\n",
        "    beta_interact = pm.Normal('beta_interact', mu=0, sigma=0.15)\n",
        "    mu = pm.math.exp(alpha + beta * crossings['s.length'] + beta_language * crossings['Language'] + beta_interact * crossings['s.length'] * crossings['Language'])\n",
        "    y_obs = pm.Poisson('y_obs', mu=mu, observed=crossings['nCross'])\n",
        "    trace_M2 = pm.sample(2000, tune=1000, cores=2, random_seed=42)\n",
        "    print(pm.summary(trace_M2))\n"
      ],
      "metadata": {
        "id": "Iepc5c7savMp",
        "colab": {
          "base_uri": "https://localhost:8080/",
          "height": 234
        },
        "outputId": "89f76c37-5709-472e-c147-b25134916fb0"
      },
      "execution_count": 49,
      "outputs": [
        {
          "output_type": "display_data",
          "data": {
            "text/plain": [
              "<IPython.core.display.HTML object>"
            ],
            "text/html": [
              "\n",
              "<style>\n",
              "    /* Turns off some styling */\n",
              "    progress {\n",
              "        /* gets rid of default border in Firefox and Opera. */\n",
              "        border: none;\n",
              "        /* Needs to be in here for Safari polyfill so background images work as expected. */\n",
              "        background-size: auto;\n",
              "    }\n",
              "    progress:not([value]), progress:not([value])::-webkit-progress-bar {\n",
              "        background: repeating-linear-gradient(45deg, #7e7e7e, #7e7e7e 10px, #5c5c5c 10px, #5c5c5c 20px);\n",
              "    }\n",
              "    .progress-bar-interrupted, .progress-bar-interrupted::-webkit-progress-bar {\n",
              "        background: #F44336;\n",
              "    }\n",
              "</style>\n"
            ]
          },
          "metadata": {}
        },
        {
          "output_type": "display_data",
          "data": {
            "text/plain": [
              "<IPython.core.display.HTML object>"
            ],
            "text/html": [
              "\n",
              "    <div>\n",
              "      <progress value='6000' class='' max='6000' style='width:300px; height:20px; vertical-align: middle;'></progress>\n",
              "      100.00% [6000/6000 00:57&lt;00:00 Sampling 2 chains, 0 divergences]\n",
              "    </div>\n",
              "    "
            ]
          },
          "metadata": {}
        },
        {
          "output_type": "stream",
          "name": "stdout",
          "text": [
            "                mean     sd  hdi_3%  hdi_97%  mcse_mean  mcse_sd  ess_bulk  \\\n",
            "alpha         -0.664  0.057  -0.778   -0.563      0.002    0.001    1099.0   \n",
            "beta           0.081  0.004   0.074    0.090      0.000    0.000    1063.0   \n",
            "beta_language -0.946  0.088  -1.118   -0.788      0.003    0.002     941.0   \n",
            "beta_interact  0.092  0.006   0.081    0.103      0.000    0.000     947.0   \n",
            "\n",
            "               ess_tail  r_hat  \n",
            "alpha            1335.0    1.0  \n",
            "beta             1308.0    1.0  \n",
            "beta_language    1033.0    1.0  \n",
            "beta_interact    1040.0    1.0  \n"
          ]
        }
      ]
    },
    {
      "cell_type": "markdown",
      "source": [
        "Exercise 2.4:"
      ],
      "metadata": {
        "id": "WrS4Aq74l_k-"
      }
    },
    {
      "cell_type": "code",
      "source": [
        "from sklearn.model_selection import KFold\n",
        "\n",
        "\n",
        "# Load the data\n",
        "crossings_data = pd.read_csv('/content/crossings_24a167f3-2f8f-4f5c-bca9-884567bb1c33.csv')\n",
        "\n",
        "# Visualize the average rate of crossings by sentence length by bar graph\n",
        "crossings_data.groupby('s.length')['nCross'].mean().plot(kind='bar')\n",
        "plt.xlabel('Sentence Length')\n",
        "plt.ylabel('Average Rate of Crossings')\n",
        "plt.title('Average Rate of Crossings by Sentence Length')\n",
        "plt.show()\n",
        "\n",
        "# Center the predictors sentence length and language id\n",
        "crossings_data['sentence_length_centered'] = crossings_data['s.length'] - crossings_data['s.length'].mean()\n",
        "crossings_data['language_ind_centered'] = crossings_data['s.id'] - crossings_data['s.id'].mean()\n"
      ],
      "metadata": {
        "colab": {
          "base_uri": "https://localhost:8080/",
          "height": 475
        },
        "id": "eZZCyMVylX1f",
        "outputId": "565f4990-a97c-47d4-b51c-87f449366f72"
      },
      "execution_count": 51,
      "outputs": [
        {
          "output_type": "display_data",
          "data": {
            "text/plain": [
              "<Figure size 640x480 with 1 Axes>"
            ],
            "image/png": "[encoded data removed]"
          },
          "metadata": {}
        }
      ]
    },
    {
      "cell_type": "code",
      "source": [
        "# Set up k-fold cross-validation\n",
        "k = 10  # Number of folds = 10\n",
        "kf = KFold(n_splits=k, shuffle=True, random_state=1)\n",
        "\n",
        "# Initialize arrays to store log predictive densities(lpd)\n",
        "lpd_M1 = np.zeros(k)\n",
        "lpd_M2 = np.zeros(k)\n",
        "\n",
        "# Function to calculate log predictive density\n",
        "def calculate_lpd(model, X_test, y_test):\n",
        "    predictions = model.get_prediction(X_test)             # test data taken\n",
        "    mean_pred = predictions.predicted_mean                 # mean of test data\n",
        "    lpd = np.sum(y_test * np.log(mean_pred) - mean_pred)   # Poisson log likelihood\n",
        "    return lpd\n"
      ],
      "metadata": {
        "id": "wT-Vqj8JlZ_7"
      },
      "execution_count": 52,
      "outputs": []
    },
    {
      "cell_type": "code",
      "source": [
        "\n",
        "# Fit the Models on training data and evaluate on test tata\n",
        "for i, (train_index, test_index) in enumerate(kf.split(crossings_data)):\n",
        "    # Split the data into training and test sets\n",
        "    train_data, test_data = crossings_data.iloc[train_index], crossings_data.iloc[test_index]\n",
        "\n",
        "    ####  M1  ####\n",
        "\n",
        "    # Prepare training and test data for Model M1\n",
        "    X_train_M1 = train_data[['sentence_length_centered']]\n",
        "    X_train_M1 = sm.add_constant(X_train_M1)\n",
        "    y_train_M1 = train_data['nCross']\n",
        "    X_test_M1 = test_data[['sentence_length_centered']]\n",
        "    X_test_M1 = sm.add_constant(X_test_M1)\n",
        "    y_test_M1 = test_data['nCross']\n",
        "\n",
        "    # Fit Model M1\n",
        "    model_M1 = sm.GLM(y_train_M1, X_train_M1, family=sm.families.Poisson()).fit()\n",
        "\n",
        "    # Calculate log predictive density for Model M1\n",
        "    lpd_M1[i] = calculate_lpd(model_M1, X_test_M1, y_test_M1)\n",
        "\n",
        "    ####  M2  ####\n",
        "\n",
        "    # Prepare training and test data for Model M2\n",
        "    X_train_M2 = train_data[['sentence_length_centered', 'language_ind_centered']].copy()\n",
        "    X_train_M2['interaction'] = X_train_M2['sentence_length_centered'] * X_train_M2['language_ind_centered']\n",
        "    X_train_M2 = sm.add_constant(X_train_M2)\n",
        "    y_train_M2 = train_data['nCross']\n",
        "    X_test_M2 = test_data[['sentence_length_centered', 'language_ind_centered']].copy()\n",
        "    X_test_M2['interaction'] = X_test_M2['sentence_length_centered'] * X_test_M2['language_ind_centered']\n",
        "    X_test_M2 = sm.add_constant(X_test_M2)\n",
        "    y_test_M2 = test_data['nCross']\n",
        "\n",
        "    # Fit Model M2\n",
        "    model_M2 = sm.GLM(y_train_M2, X_train_M2, family=sm.families.Poisson()).fit()\n",
        "\n",
        "    # Calculate log predictive density for Model M2\n",
        "    lpd_M2[i] = calculate_lpd(model_M2, X_test_M2, y_test_M2)\n",
        "\n"
      ],
      "metadata": {
        "id": "czeJknH4grZA"
      },
      "execution_count": 53,
      "outputs": []
    },
    {
      "cell_type": "code",
      "source": [
        "# Calculate the mean log predictive density for both models M1 & M2\n",
        "mean_lpd_M1 = np.mean(lpd_M1)\n",
        "mean_lpd_M2 = np.mean(lpd_M2)\n",
        "\n",
        "print(f'Mean log predictive density for Model M1: {mean_lpd_M1}')\n",
        "print(f'Mean log predictive density for Model M2: {mean_lpd_M2}')\n",
        "\n",
        "# Evidence in favor of M2 over M1\n",
        "evidence = mean_lpd_M2 - mean_lpd_M1\n",
        "print(f'Evidence in favor of Model M2 over Model M1: {evidence}')\n"
      ],
      "metadata": {
        "colab": {
          "base_uri": "https://localhost:8080/"
        },
        "id": "I3DVyeTNldrU",
        "outputId": "21a861da-1d9d-42cb-89eb-7dedae67f9e3"
      },
      "execution_count": 54,
      "outputs": [
        {
          "output_type": "stream",
          "name": "stdout",
          "text": [
            "Mean log predictive density for Model M1: -65.64008731874553\n",
            "Mean log predictive density for Model M2: -65.38386264638359\n",
            "Evidence in favor of Model M2 over Model M1: 0.25622467236193813\n"
          ]
        }
      ]
    },
    {
      "cell_type": "markdown",
      "source": [
        "Data Visualization: We begin by visualizing the average rate of crossings by sentence length to gain an initial understanding of the data, represented as a bar graph.\n",
        "\n",
        "Centering Predictors: We center the predictors, s.length (sentence length) and s.id (language id), so they have a mean of zero, which is a standard preprocessing step.\n",
        "\n",
        "k-fold Cross-Validation Setup: Using KFold from sklearn.model_selection, we set up a 10-fold cross-validation (k=10). This splits the data into 10 folds for training and testing.\n",
        "\n",
        "Model Fitting and Evaluation: Within the cross-validation loop:\n",
        "\n",
        "We fit Model M1 and Model M2 using sm.GLM from statsmodels.api, specifying the Poisson family for the likelihood.\n",
        "For each fold, we calculate the log predictive density (lpd) using a helper function calculate_lpd, which computes the Poisson log likelihood based on predicted means.\n",
        "Comparing Models: After cross-validation, we compute the mean log predictive density for both Model M1 and Model M2 across all folds.\n",
        "\n",
        "Evidence Calculation: Finally, we calculate the evidence in favor of Model M2 over Model M1 by subtracting their mean log predictive densities."
      ],
      "metadata": {
        "id": "zRfCcVT7lQvL"
      }
    },
    {
      "cell_type": "code",
      "source": [],
      "metadata": {
        "id": "zKGg_N4Ohcfq"
      },
      "execution_count": 54,
      "outputs": []
    }
  ],
  "metadata": {
    "colab": {
      "provenance": [],
      "gpuType": "T4"
    },
    "kernelspec": {
      "display_name": "Python 3",
      "name": "python3"
    },
    "language_info": {
      "name": "python"
    },
    "accelerator": "GPU"
  },
  "nbformat": 4,
  "nbformat_minor": 0
}
